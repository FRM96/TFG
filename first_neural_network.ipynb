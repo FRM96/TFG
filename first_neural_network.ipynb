{
 "cells": [
  {
   "cell_type": "code",
   "execution_count": 13,
   "metadata": {},
   "outputs": [],
   "source": [
    "import numpy as np\n",
    "from keras.utils import to_categorical\n",
    "from keras.datasets import cifar10"
   ]
  },
  {
   "cell_type": "markdown",
   "metadata": {},
   "source": [
    "# Data loading "
   ]
  },
  {
   "cell_type": "code",
   "execution_count": 34,
   "metadata": {},
   "outputs": [
    {
     "name": "stdout",
     "output_type": "stream",
     "text": [
      "x_train shape: (50000, 32, 32, 3)\n",
      "x_test shape: (10000, 32, 32, 3)\n",
      "y_train shape: (50000, 1)\n",
      "y_test shape: (10000, 1)\n"
     ]
    }
   ],
   "source": [
    "'''\n",
    "Loading CIFAR-10 dataset. x_train and x_test are np arrays of shape [50000,32,32,3] and [10000,32,32,3] respectively.\n",
    "y_train and y_test are np arrays of shape [50000,1] and [10000,1], respecectively. (Containing the integer labels 0-9 for the \n",
    "class of each image).\n",
    "'''\n",
    "(x_train, y_train), (x_test,y_test) = cifar10.load_data()\n",
    "\n",
    "NUM_CLASSES = 10\n",
    "IMG_SHAPE = (x_train.shape[1],x_train.shape[2],x_train.shape[3])\n",
    "\n",
    "print(\"x_train shape: \"+str(x_train.shape))\n",
    "print(\"x_test shape: \"+str(x_test.shape))\n",
    "print(\"y_train shape: \"+str(y_train.shape))\n",
    "print(\"y_test shape: \"+str(y_test.shape))"
   ]
  },
  {
   "cell_type": "code",
   "execution_count": 35,
   "metadata": {},
   "outputs": [],
   "source": [
    "'''\n",
    "We are going to work with (-1,1) range values. The image data consists of integers between 0 and 255 for each pixel channel, \n",
    "so we need to divide by 255.\n",
    "'''\n",
    "x_train = x_train.astype('float32') / 255.0\n",
    "x_test = x_test.astype('float32') / 255.0\n",
    "'''\n",
    "We also need to change the integer labeling of the images to One-Hot-Encoded vectors. If the class label of an image is i, \n",
    "One-Hot-Encoding is a vector of length 10, with 0s in all, except at the ith element, which is 1.\n",
    "Now, y_train and y_test are therefore [50000,10] and [10000,10] respectively.\n",
    "'''\n",
    "y_train = to_categorical(y_train,NUM_CLASSES)\n",
    "y_test = to_categorical(y_test,NUM_CLASSES)"
   ]
  },
  {
   "cell_type": "markdown",
   "metadata": {},
   "source": [
    "# Building the Model"
   ]
  },
  {
   "cell_type": "code",
   "execution_count": 36,
   "metadata": {},
   "outputs": [
    {
     "name": "stdout",
     "output_type": "stream",
     "text": [
      "_________________________________________________________________\n",
      "Layer (type)                 Output Shape              Param #   \n",
      "=================================================================\n",
      "input_5 (InputLayer)         (None, 32, 32, 3)         0         \n",
      "_________________________________________________________________\n",
      "flatten_4 (Flatten)          (None, 3072)              0         \n",
      "_________________________________________________________________\n",
      "dense_7 (Dense)              (None, 200)               614600    \n",
      "_________________________________________________________________\n",
      "dense_8 (Dense)              (None, 150)               30150     \n",
      "_________________________________________________________________\n",
      "dense_9 (Dense)              (None, 10)                1510      \n",
      "=================================================================\n",
      "Total params: 646,260\n",
      "Trainable params: 646,260\n",
      "Non-trainable params: 0\n",
      "_________________________________________________________________\n"
     ]
    }
   ],
   "source": [
    "# We are going to use the Functional API\n",
    "\n",
    "from keras.layers import Input, Flatten, Dense\n",
    "from keras.models import Model\n",
    "\n",
    "'''\n",
    "This is our entry point into the network. We need to tell the network the shape o feach data element to expect as a tuple. \n",
    "IMG_SHAPE = (32,32,3)\n",
    "'''\n",
    "\n",
    "input_layer = Input(IMG_SHAPE) \n",
    "\n",
    "'''\n",
    "We flatten the input into a vecor, using Flaten layer, with length 3072 (= 32x32x3). \n",
    "The reason we do this is because de subsequent Dense layer requieres flat inputs, not a mulidimensional array. \n",
    "Other layers types requiere multidimensional arrays as input. \n",
    "'''\n",
    "\n",
    "x = Flatten()(input_layer)\n",
    "\n",
    "'''\n",
    "The Dense layer is perhaps the most fundamental layer type in any neural network. It contains a given number of unis that \n",
    "are densely connected to the previous layer. Every uni in the layer is coneced to every uni in the previous layer, through\n",
    "a single conecction that carries a weigth (which can be possitive or negative). The output from a given unit is he weighted \n",
    "sum of the input it receives from he previous layer, whick is then passed through a nonlinear activation function before \n",
    "being sent to the following layer. The activation function is critical o ensure the neural network is able to learn complex\n",
    "functions and doesn't just output a linear combination of its input.\n",
    "\n",
    "ReLU: 0 IF NEGATIVE ELSE y=x\n",
    "LeakyReLU: y=ax IF NEGATIVE ELSE y=x\n",
    "sigmoid: 1/1+e^(-x)\n",
    "\n",
    "The softmax activation is useful if you want the total sum of the output from the layer equal 1, for example, for multiclass\n",
    "classif problems where each observation only belongs to exactly one class.--\n",
    "'''\n",
    "x = Dense(units=200, activation='relu')(x)\n",
    "x = Dense(units=150, activation='relu')(x)\n",
    "output_layer=Dense(units=10, activation='softmax')(x)\n",
    "model= Model(input_layer, output_layer)\n",
    "model.summary()"
   ]
  },
  {
   "cell_type": "markdown",
   "metadata": {},
   "source": [
    "# Compiling the Model"
   ]
  },
  {
   "cell_type": "code",
   "execution_count": 38,
   "metadata": {},
   "outputs": [],
   "source": [
    "from keras.optimizers import Adam\n",
    "\n",
    "'''\n",
    "The optimizer is the algorithm that will be used to update the weights in the neural network based on the gradient\n",
    "loss function. One of the most commonly used and stable optimizers is Adam. In most cases, you shouldn't need to tweak the\n",
    "defaults parameters of the Adam optimizer, except the learning rate. The greater the learning rate, the larger the change\n",
    "in weights at each training step. We have to fin the minima of the loss function. We want to tune or adjust this during the \n",
    "training.\n",
    "\n",
    "The loss function is used by nn to compare its predicted output to ground truth. Its returns a single number for each \n",
    "observation. If this number is greater, the network perfomance is worse.\n",
    "'''\n",
    "\n",
    "opt = Adam(lr=0.0005)\n",
    "model.compile(loss='categorical_crossentropy', optimizer=opt, metrics=['accuracy'])"
   ]
  },
  {
   "cell_type": "markdown",
   "metadata": {},
   "source": [
    "# Training Model"
   ]
  },
  {
   "cell_type": "code",
   "execution_count": 39,
   "metadata": {},
   "outputs": [
    {
     "name": "stderr",
     "output_type": "stream",
     "text": [
      "W1009 12:45:07.995323 140008108525376 deprecation.py:323] From /home/frm96/miniconda3/envs/generative/lib/python3.6/site-packages/tensorflow/python/ops/math_grad.py:1250: add_dispatch_support.<locals>.wrapper (from tensorflow.python.ops.array_ops) is deprecated and will be removed in a future version.\n",
      "Instructions for updating:\n",
      "Use tf.where in 2.0, which has the same broadcast rule as np.where\n",
      "W1009 12:45:08.041042 140008108525376 deprecation_wrapper.py:119] From /home/frm96/miniconda3/envs/generative/lib/python3.6/site-packages/keras/backend/tensorflow_backend.py:986: The name tf.assign_add is deprecated. Please use tf.compat.v1.assign_add instead.\n",
      "\n"
     ]
    },
    {
     "name": "stdout",
     "output_type": "stream",
     "text": [
      "Epoch 1/10\n",
      "50000/50000 [==============================] - 10s 207us/step - loss: 1.8447 - acc: 0.3370\n",
      "Epoch 2/10\n",
      "50000/50000 [==============================] - 10s 192us/step - loss: 1.6627 - acc: 0.4048\n",
      "Epoch 3/10\n",
      "50000/50000 [==============================] - 10s 192us/step - loss: 1.5854 - acc: 0.4351\n",
      "Epoch 4/10\n",
      "50000/50000 [==============================] - 10s 191us/step - loss: 1.5356 - acc: 0.4529\n",
      "Epoch 5/10\n",
      "50000/50000 [==============================] - 10s 192us/step - loss: 1.4997 - acc: 0.4651\n",
      "Epoch 6/10\n",
      "50000/50000 [==============================] - 10s 191us/step - loss: 1.4683 - acc: 0.4764\n",
      "Epoch 7/10\n",
      "50000/50000 [==============================] - 10s 191us/step - loss: 1.4419 - acc: 0.4857\n",
      "Epoch 8/10\n",
      "50000/50000 [==============================] - 10s 192us/step - loss: 1.4197 - acc: 0.4943\n",
      "Epoch 9/10\n",
      "50000/50000 [==============================] - 10s 192us/step - loss: 1.4016 - acc: 0.4987\n",
      "Epoch 10/10\n",
      "50000/50000 [==============================] - 10s 191us/step - loss: 1.3875 - acc: 0.5062\n"
     ]
    },
    {
     "data": {
      "text/plain": [
       "'\\nThe weights are initialized to small random values. \\nAt each training step, one batch of images is passed through the network and the errors are backpropagated to update weights.\\nThe batch_size determines how many images are in each training stepbatch. The larger the batch size, the more stable\\ngradient calculation, but the slower each training step range (32,256) recomended. \\n'"
      ]
     },
     "execution_count": 39,
     "metadata": {},
     "output_type": "execute_result"
    }
   ],
   "source": [
    "'''\n",
    "The weights are initialized to small random values. \n",
    "At each training step, one batch of images is passed through the network and the errors are backpropagated to update weights.\n",
    "The batch_size determines how many images are in each training stepbatch. The larger the batch size, the more stable\n",
    "gradient calculation, but the slower each training step range (32,256) recomended. \n",
    "'''\n",
    "\n",
    "model.fit(x_train # Raw data\n",
    "         , y_train # One-Hot-Encoded class labels\n",
    "         , batch_size = 32 # How many observations will be passed o the network at each training step\n",
    "         , epochs = 10 # How many times the network will be shown the full training data\n",
    "         , shuffle = True # If True, the batches will be drawn randomly without replacement \n",
    "          # from the training data at each training step.\n",
    "         )\n"
   ]
  },
  {
   "cell_type": "markdown",
   "metadata": {},
   "source": [
    "# Evaluating the Model"
   ]
  },
  {
   "cell_type": "code",
   "execution_count": 42,
   "metadata": {},
   "outputs": [
    {
     "name": "stdout",
     "output_type": "stream",
     "text": [
      "10000/10000 [==============================] - 0s 33us/step\n"
     ]
    }
   ],
   "source": [
    "'''\n",
    "We know the model achieves a acc of 50.62% on the training set, bu how does it perform on data it has never seen?\n",
    "We can use the evaluate method provided by Keras.\n",
    "Note that if the model was whessing randomly, it would achieve approximately 10% acc (bc there are 10 classes), so 50% \n",
    "is a good result given that we have used a very basic neural network.\n",
    "'''\n",
    "\n",
    "model.evaluate(x_test,y_test)\n",
    "\n",
    "# We can view some of the predictions on the test set using the predict method\n",
    "CLASSES = np.array(['airplane', 'automobile', 'bird', 'cat', 'deer', 'dog' , 'frog', 'horse', 'ship', 'truck'])\n",
    "\n",
    "preds = model.predict(x_test) # [1k,10] vector 10 classes prob for each observation\n",
    "preds_single = CLASSES[np.argmax(preds,axis=-1)] # We convert this array of probs back into a single pred using np. \n",
    "# axis = -1 tells the function to collapse the array over the last dimension (class dimension) [1k,1]\n",
    "actual_single = CLASSES[np.argmax(y_test,axis=-1)]\n",
    "\n"
   ]
  },
  {
   "cell_type": "code",
   "execution_count": 48,
   "metadata": {},
   "outputs": [
    {
     "data": {
      "image/png": "[encoded data removed]",
      "text/plain": [
       "<Figure size 1080x216 with 10 Axes>"
      ]
     },
     "metadata": {
      "needs_background": "light"
     },
     "output_type": "display_data"
    }
   ],
   "source": [
    "import matplotlib.pyplot as plt\n",
    "n_to_show = 10\n",
    "indices = np.random.choice(range(len(x_test)),n_to_show)\n",
    "\n",
    "fig = plt.figure(figsize=(15,3))\n",
    "fig.subplots_adjust(hspace=0.4,wspace=0.4)\n",
    "\n",
    "for i, idx in enumerate(indices):\n",
    "    img = x_test[idx]\n",
    "    ax = fig.add_subplot(1,n_to_show,i+1)\n",
    "    ax.axis('off')\n",
    "    ax.text(0.5, -0.35, 'pred = ' + str(preds_single[idx]), fontsize=10, ha='center', transform=ax.transAxes)\n",
    "    ax.text(0.5, -0.7, 'act = ' + str(actual_single[idx]), fontsize=10, ha='center', transform=ax.transAxes)\n",
    "    ax.imshow(img)\n",
    "    "
   ]
  },
  {
   "cell_type": "code",
   "execution_count": null,
   "metadata": {},
   "outputs": [],
   "source": []
  }
 ],
 "metadata": {
  "kernelspec": {
   "display_name": "Python 3",
   "language": "python",
   "name": "python3"
  },
  "language_info": {
   "codemirror_mode": {
    "name": "ipython",
    "version": 3
   },
   "file_extension": ".py",
   "mimetype": "text/x-python",
   "name": "python",
   "nbconvert_exporter": "python",
   "pygments_lexer": "ipython3",
   "version": "3.6.12"
  }
 },
 "nbformat": 4,
 "nbformat_minor": 2
}
