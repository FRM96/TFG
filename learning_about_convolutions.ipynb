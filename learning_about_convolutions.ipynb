{
  "nbformat": 4,
  "nbformat_minor": 0,
  "metadata": {
    "colab": {
      "name": "learning_about_convolutions.ipynb",
      "provenance": [],
      "collapsed_sections": [],
      "authorship_tag": "ABX9TyN3MtnYnmGAKRNLj77QHa3M",
      "include_colab_link": true
    },
    "kernelspec": {
      "name": "python3",
      "display_name": "Python 3"
    },
    "accelerator": "GPU"
  },
  "cells": [
    {
      "cell_type": "markdown",
      "metadata": {
        "id": "view-in-github",
        "colab_type": "text"
      },
      "source": [
        "<a href=\"https://colab.research.google.com/github/FRM96/TFG/blob/main/learning_about_convolutions.ipynb\" target=\"_parent\"><img src=\"https://colab.research.google.com/assets/colab-badge.svg\" alt=\"Open In Colab\"/></a>"
      ]
    },
    {
      "cell_type": "code",
      "metadata": {
        "id": "4fsgKIscU6kn"
      },
      "source": [
        "import numpy as np\n",
        "\n",
        "from keras.layers import Input, Flatten, Dense, Conv2D, BatchNormalization, LeakyReLU, Dropout, Activation\n",
        "from keras.models import Model\n",
        "from keras.optimizers import Adam\n",
        "from keras.utils import to_categorical\n",
        "import keras.backend as K \n",
        "\n",
        "from keras.datasets import cifar10"
      ],
      "execution_count": 22,
      "outputs": []
    },
    {
      "cell_type": "code",
      "metadata": {
        "id": "CxW7xPi2XFXQ"
      },
      "source": [
        "NUM_CLASSES = 10\n",
        "(x_train, y_train), (x_test, y_test) = cifar10.load_data()\n",
        "x_train = x_train.astype('float32') / 255.0\n",
        "x_test = x_test.astype('float32') / 255.0\n",
        "\n",
        "y_train = to_categorical(y_train, NUM_CLASSES)\n",
        "y_test = to_categorical(y_test, NUM_CLASSES)"
      ],
      "execution_count": 23,
      "outputs": []
    },
    {
      "cell_type": "code",
      "metadata": {
        "id": "2WY1cE5qXeRK"
      },
      "source": [
        "input_layer = Input(shape=(32,32,10))\n",
        "\n",
        "conv_layer_1 = Conv2D(\n",
        "    filters = 10,\n",
        "    kernel_size = (4,4),\n",
        "    strides = 2,\n",
        "    padding = 'same',\n",
        ")(input_layer)\n",
        "\n",
        "conv_layer_2 = Conv2D(\n",
        "    filters = 20,\n",
        "    kernel_size = (3,3),\n",
        "    strides = 2,\n",
        "    padding = 'same'\n",
        ")(conv_layer_1)\n",
        "\n",
        "flatten_layer = Flatten()(conv_layer_2)\n",
        "\n",
        "output_layer = Dense(units=10, activation = 'softmax')(flatten_layer)\n",
        "\n",
        "model = Model(input_layer, output_layer)\n"
      ],
      "execution_count": 24,
      "outputs": []
    },
    {
      "cell_type": "code",
      "metadata": {
        "id": "IGVN5i28epn6",
        "outputId": "406fc9be-b7e6-4d23-85f7-061a7af51995",
        "colab": {
          "base_uri": "https://localhost:8080/",
          "height": 317
        }
      },
      "source": [
        "model.summary()"
      ],
      "execution_count": 25,
      "outputs": [
        {
          "output_type": "stream",
          "text": [
            "Model: \"functional_3\"\n",
            "_________________________________________________________________\n",
            "Layer (type)                 Output Shape              Param #   \n",
            "=================================================================\n",
            "input_3 (InputLayer)         [(None, 32, 32, 10)]      0         \n",
            "_________________________________________________________________\n",
            "conv2d_3 (Conv2D)            (None, 16, 16, 10)        1610      \n",
            "_________________________________________________________________\n",
            "conv2d_4 (Conv2D)            (None, 8, 8, 20)          1820      \n",
            "_________________________________________________________________\n",
            "flatten_1 (Flatten)          (None, 1280)              0         \n",
            "_________________________________________________________________\n",
            "dense_1 (Dense)              (None, 10)                12810     \n",
            "=================================================================\n",
            "Total params: 16,240\n",
            "Trainable params: 16,240\n",
            "Non-trainable params: 0\n",
            "_________________________________________________________________\n"
          ],
          "name": "stdout"
        }
      ]
    },
    {
      "cell_type": "markdown",
      "metadata": {
        "id": "Ztpr3uV8dWDW"
      },
      "source": [
        "<img src='https://drive.google.com/uc?id=1GTsa5Nk7gUlafALH79-rj-eyYQxiYuL3'>\n"
      ]
    },
    {
      "cell_type": "code",
      "metadata": {
        "id": "gcsCSk-adX1F"
      },
      "source": [
        ""
      ],
      "execution_count": null,
      "outputs": []
    }
  ]
}